{
  "nbformat": 4,
  "nbformat_minor": 0,
  "metadata": {
    "colab": {
      "provenance": []
    },
    "kernelspec": {
      "name": "python3",
      "display_name": "Python 3"
    },
    "language_info": {
      "name": "python"
    }
  },
  "cells": [
    {
      "cell_type": "markdown",
      "source": [
        "Importing numpy library."
      ],
      "metadata": {
        "id": "pU_GIzIdlH5F"
      }
    },
    {
      "cell_type": "code",
      "execution_count": 1,
      "metadata": {
        "id": "ybRvuLOpYeBM"
      },
      "outputs": [],
      "source": [
        "import numpy as np"
      ]
    },
    {
      "cell_type": "markdown",
      "source": [
        "We can create a NumPy ndarray object by using the array() function."
      ],
      "metadata": {
        "id": "qisCROzbZu77"
      }
    },
    {
      "cell_type": "code",
      "source": [
        "#Creating array\n",
        "arr= np.array([1,2,3,4,5,6,7,8,9,10])"
      ],
      "metadata": {
        "id": "D9My-74TZELu"
      },
      "execution_count": 4,
      "outputs": []
    },
    {
      "cell_type": "code",
      "source": [
        "print(arr)"
      ],
      "metadata": {
        "colab": {
          "base_uri": "https://localhost:8080/"
        },
        "id": "0tMiMUgIZYt7",
        "outputId": "dda17e74-2d69-42f4-f561-643258edf656"
      },
      "execution_count": 5,
      "outputs": [
        {
          "output_type": "stream",
          "name": "stdout",
          "text": [
            "[ 1  2  3  4  5  6  7  8  9 10]\n"
          ]
        }
      ]
    },
    {
      "cell_type": "code",
      "source": [
        "print(type(arr))"
      ],
      "metadata": {
        "colab": {
          "base_uri": "https://localhost:8080/"
        },
        "id": "vNPAcEhuZejr",
        "outputId": "3f78ec6b-5c7c-4342-c608-a7cd06ad0838"
      },
      "execution_count": 6,
      "outputs": [
        {
          "output_type": "stream",
          "name": "stdout",
          "text": [
            "<class 'numpy.ndarray'>\n"
          ]
        }
      ]
    },
    {
      "cell_type": "markdown",
      "source": [
        "We can create a new array of any shape and type, with each element 0 using zeros() function."
      ],
      "metadata": {
        "id": "vPth0TvWZ8C-"
      }
    },
    {
      "cell_type": "code",
      "source": [
        "zero_arr= np.zeros(3)"
      ],
      "metadata": {
        "id": "jNNF4zEWZy6A"
      },
      "execution_count": 7,
      "outputs": []
    },
    {
      "cell_type": "code",
      "source": [
        "print(zero_arr)"
      ],
      "metadata": {
        "colab": {
          "base_uri": "https://localhost:8080/"
        },
        "id": "3GWaVmYuaOvP",
        "outputId": "58d847d9-4d5c-4d6e-b11b-8eb85d8c1ea3"
      },
      "execution_count": 8,
      "outputs": [
        {
          "output_type": "stream",
          "name": "stdout",
          "text": [
            "[0. 0. 0.]\n"
          ]
        }
      ]
    },
    {
      "cell_type": "markdown",
      "source": [
        "We can create a new array of any shape and type, with each element 1 using ones() function."
      ],
      "metadata": {
        "id": "andn-ygPaZFT"
      }
    },
    {
      "cell_type": "code",
      "source": [
        "ones_arr= np.ones(5)"
      ],
      "metadata": {
        "id": "uTx_EXjCaiWi"
      },
      "execution_count": 9,
      "outputs": []
    },
    {
      "cell_type": "code",
      "source": [
        "print(ones_arr)"
      ],
      "metadata": {
        "colab": {
          "base_uri": "https://localhost:8080/"
        },
        "id": "FkPwc4vRalQX",
        "outputId": "34d7dbe7-ac0e-4c9b-be76-886527dafe90"
      },
      "execution_count": 10,
      "outputs": [
        {
          "output_type": "stream",
          "name": "stdout",
          "text": [
            "[1. 1. 1. 1. 1.]\n"
          ]
        }
      ]
    },
    {
      "cell_type": "markdown",
      "source": [
        "We can change the shape of array using reshape() function."
      ],
      "metadata": {
        "id": "1WUeZqsJanqD"
      }
    },
    {
      "cell_type": "code",
      "source": [
        "arr2 = np.arange(8)"
      ],
      "metadata": {
        "id": "Mma95DylbM3Z"
      },
      "execution_count": 11,
      "outputs": []
    },
    {
      "cell_type": "code",
      "source": [
        "print(arr2)"
      ],
      "metadata": {
        "colab": {
          "base_uri": "https://localhost:8080/"
        },
        "id": "DU_evCf5bQqF",
        "outputId": "afe3c50e-0016-46f5-ca14-715814a8510c"
      },
      "execution_count": 12,
      "outputs": [
        {
          "output_type": "stream",
          "name": "stdout",
          "text": [
            "[0 1 2 3 4 5 6 7]\n"
          ]
        }
      ]
    },
    {
      "cell_type": "code",
      "source": [
        "arr2.shape"
      ],
      "metadata": {
        "colab": {
          "base_uri": "https://localhost:8080/"
        },
        "id": "nzKhD4cNbWot",
        "outputId": "6f56cd7c-d0d9-44a5-b00a-361cb798d016"
      },
      "execution_count": 14,
      "outputs": [
        {
          "output_type": "execute_result",
          "data": {
            "text/plain": [
              "(8,)"
            ]
          },
          "metadata": {},
          "execution_count": 14
        }
      ]
    },
    {
      "cell_type": "code",
      "source": [
        "arr2_reshape= arr2.reshape(2,4)\n",
        "arr2_reshape.shape"
      ],
      "metadata": {
        "colab": {
          "base_uri": "https://localhost:8080/"
        },
        "id": "b9W0DjXYbgGI",
        "outputId": "2705ef12-fcd7-4c6c-f4e1-5fe7a50be22f"
      },
      "execution_count": 17,
      "outputs": [
        {
          "output_type": "execute_result",
          "data": {
            "text/plain": [
              "(2, 4)"
            ]
          },
          "metadata": {},
          "execution_count": 17
        }
      ]
    },
    {
      "cell_type": "code",
      "source": [
        "print(arr2_reshape)"
      ],
      "metadata": {
        "colab": {
          "base_uri": "https://localhost:8080/"
        },
        "id": "2VGzDxgeb9en",
        "outputId": "293cc3a0-2003-4f09-92ce-b2899ce9f041"
      },
      "execution_count": 18,
      "outputs": [
        {
          "output_type": "stream",
          "name": "stdout",
          "text": [
            "[[0 1 2 3]\n",
            " [4 5 6 7]]\n"
          ]
        }
      ]
    },
    {
      "cell_type": "markdown",
      "source": [
        "We can join arrays using concatenate() function."
      ],
      "metadata": {
        "id": "c2LwBA_fcH7f"
      }
    },
    {
      "cell_type": "code",
      "source": [
        "arr1 = np.array([1, 2])\n",
        "arr2 = np.array([3, 4])\n",
        "arr = np.concatenate((arr1, arr2))\n"
      ],
      "metadata": {
        "id": "OTHSY2dgcVuf"
      },
      "execution_count": 19,
      "outputs": []
    },
    {
      "cell_type": "code",
      "source": [
        "print(arr)"
      ],
      "metadata": {
        "colab": {
          "base_uri": "https://localhost:8080/"
        },
        "id": "4hbdK7Pjccgg",
        "outputId": "12aa7070-6d02-4ebd-be54-5b6ed0aa1a68"
      },
      "execution_count": 20,
      "outputs": [
        {
          "output_type": "stream",
          "name": "stdout",
          "text": [
            "[1 2 3 4]\n"
          ]
        }
      ]
    },
    {
      "cell_type": "code",
      "source": [
        "arr.shape"
      ],
      "metadata": {
        "colab": {
          "base_uri": "https://localhost:8080/"
        },
        "id": "1-TkiHXwcfZO",
        "outputId": "c9e61ae9-14be-427e-e54d-b74124e6fd76"
      },
      "execution_count": 21,
      "outputs": [
        {
          "output_type": "execute_result",
          "data": {
            "text/plain": [
              "(4,)"
            ]
          },
          "metadata": {},
          "execution_count": 21
        }
      ]
    },
    {
      "cell_type": "markdown",
      "source": [
        "We can find mean of array elements using mean() function."
      ],
      "metadata": {
        "id": "uVJWhA4oc_S9"
      }
    },
    {
      "cell_type": "code",
      "source": [
        "arr= np.array([1,20,39,23,17])"
      ],
      "metadata": {
        "id": "jpW1OepzcznN"
      },
      "execution_count": 22,
      "outputs": []
    },
    {
      "cell_type": "code",
      "source": [
        "mean= np.mean(arr)"
      ],
      "metadata": {
        "id": "Si3KgxKAc0hW"
      },
      "execution_count": 23,
      "outputs": []
    },
    {
      "cell_type": "code",
      "source": [
        "print(mean)"
      ],
      "metadata": {
        "colab": {
          "base_uri": "https://localhost:8080/"
        },
        "id": "p7xoj6Ljc4y0",
        "outputId": "5188ca6b-7775-4e62-b532-e23ebe5e3241"
      },
      "execution_count": 24,
      "outputs": [
        {
          "output_type": "stream",
          "name": "stdout",
          "text": [
            "20.0\n"
          ]
        }
      ]
    },
    {
      "cell_type": "markdown",
      "source": [
        "We can find sum of array elements using sum() function."
      ],
      "metadata": {
        "id": "hRYXTHcqdDEy"
      }
    },
    {
      "cell_type": "code",
      "source": [
        "arr= np.array([1,20,39,23,17])"
      ],
      "metadata": {
        "id": "TK8j8eX6dGK_"
      },
      "execution_count": 25,
      "outputs": []
    },
    {
      "cell_type": "code",
      "source": [
        "sum= np.sum(arr)"
      ],
      "metadata": {
        "id": "L7cJcJuNdHbp"
      },
      "execution_count": 26,
      "outputs": []
    },
    {
      "cell_type": "code",
      "source": [
        "print(sum)"
      ],
      "metadata": {
        "colab": {
          "base_uri": "https://localhost:8080/"
        },
        "id": "Wu4X166BdJ7E",
        "outputId": "b8c35ef2-bc8a-4d1c-8328-143e1fa32035"
      },
      "execution_count": 27,
      "outputs": [
        {
          "output_type": "stream",
          "name": "stdout",
          "text": [
            "100\n"
          ]
        }
      ]
    },
    {
      "cell_type": "markdown",
      "source": [
        "We can find minimum element in array using min() function."
      ],
      "metadata": {
        "id": "G1tnD043dZww"
      }
    },
    {
      "cell_type": "code",
      "source": [
        "arr= np.array([1,20,39,23,17])"
      ],
      "metadata": {
        "id": "OnAYSQczdTKy"
      },
      "execution_count": 28,
      "outputs": []
    },
    {
      "cell_type": "code",
      "source": [
        "print(np.min(arr))"
      ],
      "metadata": {
        "colab": {
          "base_uri": "https://localhost:8080/"
        },
        "id": "WbJyEAzTdUIF",
        "outputId": "a56b9b74-cada-457b-c22c-625f2f4ab8ac"
      },
      "execution_count": 29,
      "outputs": [
        {
          "output_type": "stream",
          "name": "stdout",
          "text": [
            "1\n"
          ]
        }
      ]
    },
    {
      "cell_type": "markdown",
      "source": [
        "We can find maximum element in array using max() function."
      ],
      "metadata": {
        "id": "sIy6hMH9d3KX"
      }
    },
    {
      "cell_type": "code",
      "source": [
        "arr= np.array([1,20,39,23,17])"
      ],
      "metadata": {
        "id": "PS_XUYP5d8yJ"
      },
      "execution_count": 30,
      "outputs": []
    },
    {
      "cell_type": "code",
      "source": [
        "print(np.max(arr))"
      ],
      "metadata": {
        "colab": {
          "base_uri": "https://localhost:8080/"
        },
        "id": "dtiqpXu1d9vz",
        "outputId": "4aef8d6b-9443-459e-ff02-d7b51a616009"
      },
      "execution_count": 31,
      "outputs": [
        {
          "output_type": "stream",
          "name": "stdout",
          "text": [
            "39\n"
          ]
        }
      ]
    },
    {
      "cell_type": "markdown",
      "source": [
        "We can find index of the minimum element in array using argmin() function."
      ],
      "metadata": {
        "id": "FgSXhYJGeJev"
      }
    },
    {
      "cell_type": "code",
      "source": [
        "arr= np.array([9,1,39,23,17])"
      ],
      "metadata": {
        "id": "WxL2XdKweAb5"
      },
      "execution_count": 37,
      "outputs": []
    },
    {
      "cell_type": "code",
      "source": [
        "print(np.argmin(arr))"
      ],
      "metadata": {
        "colab": {
          "base_uri": "https://localhost:8080/"
        },
        "id": "bHNHCRDDeRvY",
        "outputId": "d1b497bd-88a0-48c0-ea2e-8a959c89db23"
      },
      "execution_count": 38,
      "outputs": [
        {
          "output_type": "stream",
          "name": "stdout",
          "text": [
            "1\n"
          ]
        }
      ]
    },
    {
      "cell_type": "markdown",
      "source": [
        "NOTE- When there are two min elements in array, argmin will return index of the first occurence of the minimum element."
      ],
      "metadata": {
        "id": "GyMo1S8efJrx"
      }
    },
    {
      "cell_type": "code",
      "source": [
        "arr= np.array([9,1,39,1,17])"
      ],
      "metadata": {
        "id": "g5j-PBi9eZCb"
      },
      "execution_count": 39,
      "outputs": []
    },
    {
      "cell_type": "code",
      "source": [
        "print(np.argmin(arr))"
      ],
      "metadata": {
        "colab": {
          "base_uri": "https://localhost:8080/"
        },
        "id": "Aq0oiKT3fWhU",
        "outputId": "e0d205c5-f06f-4200-deb5-b975fd0e785f"
      },
      "execution_count": 40,
      "outputs": [
        {
          "output_type": "stream",
          "name": "stdout",
          "text": [
            "1\n"
          ]
        }
      ]
    },
    {
      "cell_type": "markdown",
      "source": [
        "We can find index of the maximum element in array using argmax() function."
      ],
      "metadata": {
        "id": "mFsJiJmxf8LO"
      }
    },
    {
      "cell_type": "code",
      "source": [
        "arr= np.array([9,1,39,23,17])"
      ],
      "metadata": {
        "id": "Epg0UTSOgBN0"
      },
      "execution_count": 41,
      "outputs": []
    },
    {
      "cell_type": "code",
      "source": [
        "print(np.argmax(arr))"
      ],
      "metadata": {
        "colab": {
          "base_uri": "https://localhost:8080/"
        },
        "id": "O7Qf6x3QgDRb",
        "outputId": "283130fa-9005-484b-cba4-d9e6a3d31db3"
      },
      "execution_count": 42,
      "outputs": [
        {
          "output_type": "stream",
          "name": "stdout",
          "text": [
            "2\n"
          ]
        }
      ]
    },
    {
      "cell_type": "markdown",
      "source": [
        "NOTE- When there are two max elements in array, argmax will return index of the first occurence of the maximum element."
      ],
      "metadata": {
        "id": "ZTABDpAggG-z"
      }
    },
    {
      "cell_type": "code",
      "source": [
        "arr= np.array([39,1,39,23,17])"
      ],
      "metadata": {
        "id": "pfcxH9kXgVEW"
      },
      "execution_count": 43,
      "outputs": []
    },
    {
      "cell_type": "code",
      "source": [
        "print(np.argmax(arr))"
      ],
      "metadata": {
        "colab": {
          "base_uri": "https://localhost:8080/"
        },
        "id": "T0h-hh_ngWoT",
        "outputId": "acd0b7dd-75a0-4bc4-e758-967fa8ca6786"
      },
      "execution_count": 44,
      "outputs": [
        {
          "output_type": "stream",
          "name": "stdout",
          "text": [
            "0\n"
          ]
        }
      ]
    },
    {
      "cell_type": "markdown",
      "source": [
        "We can find dot product using dot() function."
      ],
      "metadata": {
        "id": "OGv5juCogaNf"
      }
    },
    {
      "cell_type": "code",
      "source": [
        "#Element mutliplication\n",
        "np.dot(4,5)"
      ],
      "metadata": {
        "colab": {
          "base_uri": "https://localhost:8080/"
        },
        "id": "XDN2EuhChBkG",
        "outputId": "5763588f-aa1d-4ecd-b827-301837414add"
      },
      "execution_count": 45,
      "outputs": [
        {
          "output_type": "execute_result",
          "data": {
            "text/plain": [
              "20"
            ]
          },
          "metadata": {},
          "execution_count": 45
        }
      ]
    },
    {
      "cell_type": "code",
      "source": [
        "#If both a and b are 1-D arrays, it is inner product of vectors.\n",
        "np.dot([2, 3], [3, 4])"
      ],
      "metadata": {
        "colab": {
          "base_uri": "https://localhost:8080/"
        },
        "id": "0sKEgrIYhe4f",
        "outputId": "0287ef15-101e-4536-b456-120d28916cde"
      },
      "execution_count": 46,
      "outputs": [
        {
          "output_type": "execute_result",
          "data": {
            "text/plain": [
              "18"
            ]
          },
          "metadata": {},
          "execution_count": 46
        }
      ]
    },
    {
      "cell_type": "code",
      "source": [
        "#If both a and b are 2-D arrays, it is matrix multiplication.\n",
        "a = [[1, 0], [0, 1]]\n",
        "b = [[4, 1], [2, 2]]\n",
        "np.dot(a, b)"
      ],
      "metadata": {
        "colab": {
          "base_uri": "https://localhost:8080/"
        },
        "id": "QSG1IybJhryx",
        "outputId": "b73cda33-3516-47b9-caaf-84c89c2c62d3"
      },
      "execution_count": 47,
      "outputs": [
        {
          "output_type": "execute_result",
          "data": {
            "text/plain": [
              "array([[4, 1],\n",
              "       [2, 2]])"
            ]
          },
          "metadata": {},
          "execution_count": 47
        }
      ]
    },
    {
      "cell_type": "markdown",
      "source": [
        "np.random.rand() creates an array of any shape with random values over [0,1).\n",
        "This function generates random numbers from a **uniform distribution**."
      ],
      "metadata": {
        "id": "gSJa7WwGib7Z"
      }
    },
    {
      "cell_type": "code",
      "source": [
        "arr= np.random.rand(2,4)"
      ],
      "metadata": {
        "id": "_Eouk2pOiCuj"
      },
      "execution_count": 50,
      "outputs": []
    },
    {
      "cell_type": "code",
      "source": [
        "print(arr)"
      ],
      "metadata": {
        "colab": {
          "base_uri": "https://localhost:8080/"
        },
        "id": "obEJf68rimmf",
        "outputId": "88633078-5161-4b49-893e-e0b3957a6f83"
      },
      "execution_count": 51,
      "outputs": [
        {
          "output_type": "stream",
          "name": "stdout",
          "text": [
            "[[0.91270229 0.11502433 0.98052356 0.80147561]\n",
            " [0.51865342 0.32673252 0.33010839 0.30690753]]\n"
          ]
        }
      ]
    },
    {
      "cell_type": "markdown",
      "source": [
        "np.random.randn() creates an array of any shape with random values.\n",
        "This function generates random numbers from a **standard normal distribution**.\n",
        "The standard normal distribution is a probability distribution where the mean is 0 and the standard deviation is 1."
      ],
      "metadata": {
        "id": "FB-sFQV7i0Ej"
      }
    },
    {
      "cell_type": "code",
      "source": [
        "arr= np.random.randn(2,4)"
      ],
      "metadata": {
        "id": "lu6jQWxLjdbo"
      },
      "execution_count": 52,
      "outputs": []
    },
    {
      "cell_type": "code",
      "source": [
        "print(arr)"
      ],
      "metadata": {
        "colab": {
          "base_uri": "https://localhost:8080/"
        },
        "id": "yceVYaymji2B",
        "outputId": "8830f5aa-1884-4514-a376-7d759149b9b3"
      },
      "execution_count": 53,
      "outputs": [
        {
          "output_type": "stream",
          "name": "stdout",
          "text": [
            "[[-0.65967943 -0.36198894 -1.55007618 -1.57707382]\n",
            " [-0.68490854 -0.575343   -0.39379756  0.23986786]]\n"
          ]
        }
      ]
    },
    {
      "cell_type": "markdown",
      "source": [
        "np.random.randint() creates an array of any shape with random integers between a specified range."
      ],
      "metadata": {
        "id": "mGvBXEQqjx3n"
      }
    },
    {
      "cell_type": "code",
      "source": [
        "arr= np.random.randint(2,6,size=(2,5))\n",
        "print(arr)"
      ],
      "metadata": {
        "colab": {
          "base_uri": "https://localhost:8080/"
        },
        "id": "8J1frZgRkPvI",
        "outputId": "df751cb1-63d0-41fa-f2d8-efc77d16123b"
      },
      "execution_count": 58,
      "outputs": [
        {
          "output_type": "stream",
          "name": "stdout",
          "text": [
            "[[5 3 5 3 5]\n",
            " [4 3 3 5 2]]\n"
          ]
        }
      ]
    },
    {
      "cell_type": "markdown",
      "source": [
        "In this case the range is [2,6)."
      ],
      "metadata": {
        "id": "jausQcb8k2ka"
      }
    }
  ]
}