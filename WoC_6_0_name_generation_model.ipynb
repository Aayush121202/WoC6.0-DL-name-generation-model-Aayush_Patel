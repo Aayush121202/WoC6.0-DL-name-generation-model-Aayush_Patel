{
  "nbformat": 4,
  "nbformat_minor": 0,
  "metadata": {
    "colab": {
      "provenance": []
    },
    "kernelspec": {
      "name": "python3",
      "display_name": "Python 3"
    },
    "language_info": {
      "name": "python"
    }
  },
  "cells": [
    {
      "cell_type": "markdown",
      "source": [
        "# Dictionary Lookup"
      ],
      "metadata": {
        "id": "rQO8VqAa27Lb"
      }
    },
    {
      "cell_type": "markdown",
      "source": [
        "Step 1: Create char_to_index dictionary with indices as keys and characters as values."
      ],
      "metadata": {
        "id": "bw5WxLQL4QYt"
      }
    },
    {
      "cell_type": "code",
      "execution_count": 2,
      "metadata": {
        "id": "4Apk9ea12e9C"
      },
      "outputs": [],
      "source": [
        "char_to_index = {}\n",
        "for i in range(26):\n",
        "    char_to_index[i] = chr(65 + i)  # Uppercase letters\n",
        "    char_to_index[26 + i] = chr(97 + i)  # Lowercase letters\n",
        "char_to_index[52] = \"EOW\"  # Special character for the end of the word\n"
      ]
    },
    {
      "cell_type": "code",
      "source": [
        "print(\"char_to_index:\", char_to_index)"
      ],
      "metadata": {
        "colab": {
          "base_uri": "https://localhost:8080/"
        },
        "id": "APEMtssr3pTP",
        "outputId": "e5922e6f-ae1f-45e3-8c87-3fef43666dc2"
      },
      "execution_count": 3,
      "outputs": [
        {
          "output_type": "stream",
          "name": "stdout",
          "text": [
            "char_to_index: {0: 'A', 26: 'a', 1: 'B', 27: 'b', 2: 'C', 28: 'c', 3: 'D', 29: 'd', 4: 'E', 30: 'e', 5: 'F', 31: 'f', 6: 'G', 32: 'g', 7: 'H', 33: 'h', 8: 'I', 34: 'i', 9: 'J', 35: 'j', 10: 'K', 36: 'k', 11: 'L', 37: 'l', 12: 'M', 38: 'm', 13: 'N', 39: 'n', 14: 'O', 40: 'o', 15: 'P', 41: 'p', 16: 'Q', 42: 'q', 17: 'R', 43: 'r', 18: 'S', 44: 's', 19: 'T', 45: 't', 20: 'U', 46: 'u', 21: 'V', 47: 'v', 22: 'W', 48: 'w', 23: 'X', 49: 'x', 24: 'Y', 50: 'y', 25: 'Z', 51: 'z', 52: 'EOW'}\n"
          ]
        }
      ]
    },
    {
      "cell_type": "markdown",
      "source": [
        "Step 2: Create char_to_index dictionary with characters as keys and indices as values."
      ],
      "metadata": {
        "id": "dO5RIzzf4bHA"
      }
    },
    {
      "cell_type": "code",
      "source": [
        "index_to_char = {char: idx for idx, char in char_to_index.items()}"
      ],
      "metadata": {
        "id": "OtsoefB6317L"
      },
      "execution_count": 6,
      "outputs": []
    },
    {
      "cell_type": "code",
      "source": [
        "# Display dict2\n",
        "print(\"dict2:\", index_to_char)"
      ],
      "metadata": {
        "colab": {
          "base_uri": "https://localhost:8080/"
        },
        "id": "tP4qbI7o4kjH",
        "outputId": "9c011cef-64f6-4f69-be4c-a5a8444e5afe"
      },
      "execution_count": 7,
      "outputs": [
        {
          "output_type": "stream",
          "name": "stdout",
          "text": [
            "dict2: {'A': 0, 'a': 26, 'B': 1, 'b': 27, 'C': 2, 'c': 28, 'D': 3, 'd': 29, 'E': 4, 'e': 30, 'F': 5, 'f': 31, 'G': 6, 'g': 32, 'H': 7, 'h': 33, 'I': 8, 'i': 34, 'J': 9, 'j': 35, 'K': 10, 'k': 36, 'L': 11, 'l': 37, 'M': 12, 'm': 38, 'N': 13, 'n': 39, 'O': 14, 'o': 40, 'P': 15, 'p': 41, 'Q': 16, 'q': 42, 'R': 17, 'r': 43, 'S': 18, 's': 44, 'T': 19, 't': 45, 'U': 20, 'u': 46, 'V': 21, 'v': 47, 'W': 22, 'w': 48, 'X': 23, 'x': 49, 'Y': 24, 'y': 50, 'Z': 25, 'z': 51, 'EOW': 52}\n"
          ]
        }
      ]
    },
    {
      "cell_type": "markdown",
      "source": [
        "NOTE- EOW represents the end of word in our dictionary lookup."
      ],
      "metadata": {
        "id": "IzuaJSBa4qfq"
      }
    }
  ]
}